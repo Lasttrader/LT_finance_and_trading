{
  "nbformat": 4,
  "nbformat_minor": 0,
  "metadata": {
    "colab": {
      "name": "001_CL_M5_2012.ipynb",
      "version": "0.3.2",
      "provenance": [],
      "include_colab_link": true
    },
    "kernelspec": {
      "name": "python3",
      "display_name": "Python 3"
    }
  },
  "cells": [
    {
      "cell_type": "markdown",
      "metadata": {
        "id": "view-in-github",
        "colab_type": "text"
      },
      "source": [
        "<a href=\"https://colab.research.google.com/github/Lasttrader/LT/blob/master/001_CL_M5_2012.ipynb\" target=\"_parent\"><img src=\"https://colab.research.google.com/assets/colab-badge.svg\" alt=\"Open In Colab\"/></a>"
      ]
    },
    {
      "cell_type": "code",
      "metadata": {
        "id": "bsy7Pm8It6gH",
        "colab_type": "code",
        "outputId": "78acd2d6-b58a-4b0c-bafd-67ffabf4aed7",
        "colab": {
          "base_uri": "https://localhost:8080/",
          "height": 51
        }
      },
      "source": [
        "!pip install -U -q PyDrive\n",
        "from pydrive.auth import GoogleAuth\n",
        "from pydrive.drive import GoogleDrive\n",
        "from google.colab import auth\n",
        "from oauth2client.client import GoogleCredentials\n",
        " \n",
        "# 1. Authenticate and create the PyDrive client.\n",
        "auth.authenticate_user()\n",
        "gauth = GoogleAuth()\n",
        "gauth.credentials = GoogleCredentials.get_application_default()\n",
        "drive = GoogleDrive(gauth)"
      ],
      "execution_count": 1,
      "outputs": [
        {
          "output_type": "stream",
          "text": [
            "\u001b[?25l\r\u001b[K     |▎                               | 10kB 16.5MB/s eta 0:00:01\r\u001b[K     |▋                               | 20kB 3.3MB/s eta 0:00:01\r\u001b[K     |█                               | 30kB 4.7MB/s eta 0:00:01\r\u001b[K     |█▎                              | 40kB 3.0MB/s eta 0:00:01\r\u001b[K     |█▋                              | 51kB 3.7MB/s eta 0:00:01\r\u001b[K     |██                              | 61kB 4.3MB/s eta 0:00:01\r\u001b[K     |██▎                             | 71kB 5.0MB/s eta 0:00:01\r\u001b[K     |██▋                             | 81kB 5.6MB/s eta 0:00:01\r\u001b[K     |███                             | 92kB 6.2MB/s eta 0:00:01\r\u001b[K     |███▎                            | 102kB 4.9MB/s eta 0:00:01\r\u001b[K     |███▋                            | 112kB 4.9MB/s eta 0:00:01\r\u001b[K     |████                            | 122kB 4.9MB/s eta 0:00:01\r\u001b[K     |████▎                           | 133kB 4.9MB/s eta 0:00:01\r\u001b[K     |████▋                           | 143kB 4.9MB/s eta 0:00:01\r\u001b[K     |█████                           | 153kB 4.9MB/s eta 0:00:01\r\u001b[K     |█████▎                          | 163kB 4.9MB/s eta 0:00:01\r\u001b[K     |█████▋                          | 174kB 4.9MB/s eta 0:00:01\r\u001b[K     |██████                          | 184kB 4.9MB/s eta 0:00:01\r\u001b[K     |██████▎                         | 194kB 4.9MB/s eta 0:00:01\r\u001b[K     |██████▋                         | 204kB 4.9MB/s eta 0:00:01\r\u001b[K     |███████                         | 215kB 4.9MB/s eta 0:00:01\r\u001b[K     |███████▎                        | 225kB 4.9MB/s eta 0:00:01\r\u001b[K     |███████▋                        | 235kB 4.9MB/s eta 0:00:01\r\u001b[K     |████████                        | 245kB 4.9MB/s eta 0:00:01\r\u001b[K     |████████▎                       | 256kB 4.9MB/s eta 0:00:01\r\u001b[K     |████████▋                       | 266kB 4.9MB/s eta 0:00:01\r\u001b[K     |█████████                       | 276kB 4.9MB/s eta 0:00:01\r\u001b[K     |█████████▎                      | 286kB 4.9MB/s eta 0:00:01\r\u001b[K     |█████████▋                      | 296kB 4.9MB/s eta 0:00:01\r\u001b[K     |██████████                      | 307kB 4.9MB/s eta 0:00:01\r\u001b[K     |██████████▎                     | 317kB 4.9MB/s eta 0:00:01\r\u001b[K     |██████████▋                     | 327kB 4.9MB/s eta 0:00:01\r\u001b[K     |███████████                     | 337kB 4.9MB/s eta 0:00:01\r\u001b[K     |███████████▎                    | 348kB 4.9MB/s eta 0:00:01\r\u001b[K     |███████████▋                    | 358kB 4.9MB/s eta 0:00:01\r\u001b[K     |████████████                    | 368kB 4.9MB/s eta 0:00:01\r\u001b[K     |████████████▎                   | 378kB 4.9MB/s eta 0:00:01\r\u001b[K     |████████████▋                   | 389kB 4.9MB/s eta 0:00:01\r\u001b[K     |█████████████                   | 399kB 4.9MB/s eta 0:00:01\r\u001b[K     |█████████████▎                  | 409kB 4.9MB/s eta 0:00:01\r\u001b[K     |█████████████▋                  | 419kB 4.9MB/s eta 0:00:01\r\u001b[K     |██████████████                  | 430kB 4.9MB/s eta 0:00:01\r\u001b[K     |██████████████▎                 | 440kB 4.9MB/s eta 0:00:01\r\u001b[K     |██████████████▋                 | 450kB 4.9MB/s eta 0:00:01\r\u001b[K     |███████████████                 | 460kB 4.9MB/s eta 0:00:01\r\u001b[K     |███████████████▎                | 471kB 4.9MB/s eta 0:00:01\r\u001b[K     |███████████████▋                | 481kB 4.9MB/s eta 0:00:01\r\u001b[K     |████████████████                | 491kB 4.9MB/s eta 0:00:01\r\u001b[K     |████████████████▎               | 501kB 4.9MB/s eta 0:00:01\r\u001b[K     |████████████████▋               | 512kB 4.9MB/s eta 0:00:01\r\u001b[K     |█████████████████               | 522kB 4.9MB/s eta 0:00:01\r\u001b[K     |█████████████████▎              | 532kB 4.9MB/s eta 0:00:01\r\u001b[K     |█████████████████▋              | 542kB 4.9MB/s eta 0:00:01\r\u001b[K     |██████████████████              | 552kB 4.9MB/s eta 0:00:01\r\u001b[K     |██████████████████▎             | 563kB 4.9MB/s eta 0:00:01\r\u001b[K     |██████████████████▋             | 573kB 4.9MB/s eta 0:00:01\r\u001b[K     |███████████████████             | 583kB 4.9MB/s eta 0:00:01\r\u001b[K     |███████████████████▎            | 593kB 4.9MB/s eta 0:00:01\r\u001b[K     |███████████████████▋            | 604kB 4.9MB/s eta 0:00:01\r\u001b[K     |████████████████████            | 614kB 4.9MB/s eta 0:00:01\r\u001b[K     |████████████████████▎           | 624kB 4.9MB/s eta 0:00:01\r\u001b[K     |████████████████████▋           | 634kB 4.9MB/s eta 0:00:01\r\u001b[K     |█████████████████████           | 645kB 4.9MB/s eta 0:00:01\r\u001b[K     |█████████████████████▎          | 655kB 4.9MB/s eta 0:00:01\r\u001b[K     |█████████████████████▋          | 665kB 4.9MB/s eta 0:00:01\r\u001b[K     |██████████████████████          | 675kB 4.9MB/s eta 0:00:01\r\u001b[K     |██████████████████████▎         | 686kB 4.9MB/s eta 0:00:01\r\u001b[K     |██████████████████████▋         | 696kB 4.9MB/s eta 0:00:01\r\u001b[K     |███████████████████████         | 706kB 4.9MB/s eta 0:00:01\r\u001b[K     |███████████████████████▎        | 716kB 4.9MB/s eta 0:00:01\r\u001b[K     |███████████████████████▋        | 727kB 4.9MB/s eta 0:00:01\r\u001b[K     |████████████████████████        | 737kB 4.9MB/s eta 0:00:01\r\u001b[K     |████████████████████████▎       | 747kB 4.9MB/s eta 0:00:01\r\u001b[K     |████████████████████████▋       | 757kB 4.9MB/s eta 0:00:01\r\u001b[K     |████████████████████████▉       | 768kB 4.9MB/s eta 0:00:01\r\u001b[K     |█████████████████████████▏      | 778kB 4.9MB/s eta 0:00:01\r\u001b[K     |█████████████████████████▌      | 788kB 4.9MB/s eta 0:00:01\r\u001b[K     |█████████████████████████▉      | 798kB 4.9MB/s eta 0:00:01\r\u001b[K     |██████████████████████████▏     | 808kB 4.9MB/s eta 0:00:01\r\u001b[K     |██████████████████████████▌     | 819kB 4.9MB/s eta 0:00:01\r\u001b[K     |██████████████████████████▉     | 829kB 4.9MB/s eta 0:00:01\r\u001b[K     |███████████████████████████▏    | 839kB 4.9MB/s eta 0:00:01\r\u001b[K     |███████████████████████████▌    | 849kB 4.9MB/s eta 0:00:01\r\u001b[K     |███████████████████████████▉    | 860kB 4.9MB/s eta 0:00:01\r\u001b[K     |████████████████████████████▏   | 870kB 4.9MB/s eta 0:00:01\r\u001b[K     |████████████████████████████▌   | 880kB 4.9MB/s eta 0:00:01\r\u001b[K     |████████████████████████████▉   | 890kB 4.9MB/s eta 0:00:01\r\u001b[K     |█████████████████████████████▏  | 901kB 4.9MB/s eta 0:00:01\r\u001b[K     |█████████████████████████████▌  | 911kB 4.9MB/s eta 0:00:01\r\u001b[K     |█████████████████████████████▉  | 921kB 4.9MB/s eta 0:00:01\r\u001b[K     |██████████████████████████████▏ | 931kB 4.9MB/s eta 0:00:01\r\u001b[K     |██████████████████████████████▌ | 942kB 4.9MB/s eta 0:00:01\r\u001b[K     |██████████████████████████████▉ | 952kB 4.9MB/s eta 0:00:01\r\u001b[K     |███████████████████████████████▏| 962kB 4.9MB/s eta 0:00:01\r\u001b[K     |███████████████████████████████▌| 972kB 4.9MB/s eta 0:00:01\r\u001b[K     |███████████████████████████████▉| 983kB 4.9MB/s eta 0:00:01\r\u001b[K     |████████████████████████████████| 993kB 4.9MB/s \n",
            "\u001b[?25h  Building wheel for PyDrive (setup.py) ... \u001b[?25l\u001b[?25hdone\n"
          ],
          "name": "stdout"
        }
      ]
    },
    {
      "cell_type": "code",
      "metadata": {
        "id": "JF_-UUH59qVS",
        "colab_type": "code",
        "outputId": "0024a47d-9127-4fb2-8303-d7eb1f20e22f",
        "colab": {
          "base_uri": "https://localhost:8080/",
          "height": 51
        }
      },
      "source": [
        "file_list = drive.ListFile({'q': \"'1DGQoLf-YFRo506bjwP_v3vFPe-ofHzUW' in parents and trashed=false\"}).GetList()\n",
        "for file1 in file_list:\n",
        "  print('title: %s, id: %s' % (file1['title'], file1['id']))"
      ],
      "execution_count": 2,
      "outputs": [
        {
          "output_type": "stream",
          "text": [
            "title: cl_m5_20120101_20121231.csv, id: 1ah_KI6CBWzWtFyqlgpSLgOf9yYr3Oimv\n",
            "title: 001_CL_M5_2012.ipynb, id: 17FPL5dUlzubVc_KKKW3jvQeQnQnt88HT\n"
          ],
          "name": "stdout"
        }
      ]
    },
    {
      "cell_type": "code",
      "metadata": {
        "id": "v8SS5fsfBZa9",
        "colab_type": "code",
        "colab": {}
      },
      "source": [
        "train_downloaded = drive.CreateFile({'id': '1ah_KI6CBWzWtFyqlgpSLgOf9yYr3Oimv'})\n",
        "train_downloaded.GetContentFile('cl_m5_20120101_20121231.csv')"
      ],
      "execution_count": 0,
      "outputs": []
    },
    {
      "cell_type": "code",
      "metadata": {
        "id": "wjdwlHcPASDm",
        "colab_type": "code",
        "outputId": "215d01c3-8c43-40f5-c006-05ee6db3b426",
        "colab": {
          "base_uri": "https://localhost:8080/",
          "height": 628
        }
      },
      "source": [
        "import pandas as pd\n",
        "import numpy as np\n",
        "cl = pd.read_csv('cl_m5_20120101_20121231.csv' , sep = ';')\n",
        "\n",
        "print(cl.dtypes)\n",
        "\n",
        "cl[:11]\n"
      ],
      "execution_count": 12,
      "outputs": [
        {
          "output_type": "stream",
          "text": [
            "OPEN_DATE      object\n",
            "OPEN_TIME      object\n",
            "CLOSE_DATE     object\n",
            "CLOSE_TIME     object\n",
            "OPEN          float64\n",
            "HIGH          float64\n",
            "LOW           float64\n",
            "CLOSE         float64\n",
            "VOLUME          int64\n",
            "DELTA           int64\n",
            "ASK             int64\n",
            "BID             int64\n",
            "EXPIRATION     object\n",
            "dtype: object\n"
          ],
          "name": "stdout"
        },
        {
          "output_type": "execute_result",
          "data": {
            "text/html": [
              "<div>\n",
              "<style scoped>\n",
              "    .dataframe tbody tr th:only-of-type {\n",
              "        vertical-align: middle;\n",
              "    }\n",
              "\n",
              "    .dataframe tbody tr th {\n",
              "        vertical-align: top;\n",
              "    }\n",
              "\n",
              "    .dataframe thead th {\n",
              "        text-align: right;\n",
              "    }\n",
              "</style>\n",
              "<table border=\"1\" class=\"dataframe\">\n",
              "  <thead>\n",
              "    <tr style=\"text-align: right;\">\n",
              "      <th></th>\n",
              "      <th>OPEN_DATE</th>\n",
              "      <th>OPEN_TIME</th>\n",
              "      <th>CLOSE_DATE</th>\n",
              "      <th>CLOSE_TIME</th>\n",
              "      <th>OPEN</th>\n",
              "      <th>HIGH</th>\n",
              "      <th>LOW</th>\n",
              "      <th>CLOSE</th>\n",
              "      <th>VOLUME</th>\n",
              "      <th>DELTA</th>\n",
              "      <th>ASK</th>\n",
              "      <th>BID</th>\n",
              "      <th>EXPIRATION</th>\n",
              "    </tr>\n",
              "  </thead>\n",
              "  <tbody>\n",
              "    <tr>\n",
              "      <th>0</th>\n",
              "      <td>03.01.2012</td>\n",
              "      <td>01:00</td>\n",
              "      <td>03.01.2012</td>\n",
              "      <td>01:05</td>\n",
              "      <td>100.51</td>\n",
              "      <td>100.51</td>\n",
              "      <td>99.65</td>\n",
              "      <td>100.51</td>\n",
              "      <td>917</td>\n",
              "      <td>523</td>\n",
              "      <td>720</td>\n",
              "      <td>197</td>\n",
              "      <td>02-12</td>\n",
              "    </tr>\n",
              "    <tr>\n",
              "      <th>1</th>\n",
              "      <td>03.01.2012</td>\n",
              "      <td>01:05</td>\n",
              "      <td>03.01.2012</td>\n",
              "      <td>01:10</td>\n",
              "      <td>100.51</td>\n",
              "      <td>100.30</td>\n",
              "      <td>100.01</td>\n",
              "      <td>100.51</td>\n",
              "      <td>378</td>\n",
              "      <td>-76</td>\n",
              "      <td>151</td>\n",
              "      <td>227</td>\n",
              "      <td>02-12</td>\n",
              "    </tr>\n",
              "    <tr>\n",
              "      <th>2</th>\n",
              "      <td>03.01.2012</td>\n",
              "      <td>01:10</td>\n",
              "      <td>03.01.2012</td>\n",
              "      <td>01:15</td>\n",
              "      <td>100.51</td>\n",
              "      <td>100.20</td>\n",
              "      <td>100.00</td>\n",
              "      <td>100.51</td>\n",
              "      <td>186</td>\n",
              "      <td>-58</td>\n",
              "      <td>64</td>\n",
              "      <td>122</td>\n",
              "      <td>02-12</td>\n",
              "    </tr>\n",
              "    <tr>\n",
              "      <th>3</th>\n",
              "      <td>03.01.2012</td>\n",
              "      <td>01:15</td>\n",
              "      <td>03.01.2012</td>\n",
              "      <td>01:20</td>\n",
              "      <td>100.51</td>\n",
              "      <td>100.25</td>\n",
              "      <td>100.10</td>\n",
              "      <td>100.51</td>\n",
              "      <td>155</td>\n",
              "      <td>79</td>\n",
              "      <td>117</td>\n",
              "      <td>38</td>\n",
              "      <td>02-12</td>\n",
              "    </tr>\n",
              "    <tr>\n",
              "      <th>4</th>\n",
              "      <td>03.01.2012</td>\n",
              "      <td>01:20</td>\n",
              "      <td>03.01.2012</td>\n",
              "      <td>01:25</td>\n",
              "      <td>100.51</td>\n",
              "      <td>100.24</td>\n",
              "      <td>100.07</td>\n",
              "      <td>100.51</td>\n",
              "      <td>91</td>\n",
              "      <td>-47</td>\n",
              "      <td>22</td>\n",
              "      <td>69</td>\n",
              "      <td>02-12</td>\n",
              "    </tr>\n",
              "    <tr>\n",
              "      <th>5</th>\n",
              "      <td>03.01.2012</td>\n",
              "      <td>01:25</td>\n",
              "      <td>03.01.2012</td>\n",
              "      <td>01:30</td>\n",
              "      <td>100.51</td>\n",
              "      <td>100.10</td>\n",
              "      <td>100.05</td>\n",
              "      <td>100.51</td>\n",
              "      <td>42</td>\n",
              "      <td>22</td>\n",
              "      <td>32</td>\n",
              "      <td>10</td>\n",
              "      <td>02-12</td>\n",
              "    </tr>\n",
              "    <tr>\n",
              "      <th>6</th>\n",
              "      <td>03.01.2012</td>\n",
              "      <td>01:30</td>\n",
              "      <td>03.01.2012</td>\n",
              "      <td>01:35</td>\n",
              "      <td>100.51</td>\n",
              "      <td>100.21</td>\n",
              "      <td>100.08</td>\n",
              "      <td>100.51</td>\n",
              "      <td>77</td>\n",
              "      <td>53</td>\n",
              "      <td>65</td>\n",
              "      <td>12</td>\n",
              "      <td>02-12</td>\n",
              "    </tr>\n",
              "    <tr>\n",
              "      <th>7</th>\n",
              "      <td>03.01.2012</td>\n",
              "      <td>01:35</td>\n",
              "      <td>03.01.2012</td>\n",
              "      <td>01:40</td>\n",
              "      <td>100.51</td>\n",
              "      <td>100.28</td>\n",
              "      <td>100.21</td>\n",
              "      <td>100.51</td>\n",
              "      <td>43</td>\n",
              "      <td>7</td>\n",
              "      <td>25</td>\n",
              "      <td>18</td>\n",
              "      <td>02-12</td>\n",
              "    </tr>\n",
              "    <tr>\n",
              "      <th>8</th>\n",
              "      <td>03.01.2012</td>\n",
              "      <td>01:40</td>\n",
              "      <td>03.01.2012</td>\n",
              "      <td>01:45</td>\n",
              "      <td>100.51</td>\n",
              "      <td>100.28</td>\n",
              "      <td>100.20</td>\n",
              "      <td>100.51</td>\n",
              "      <td>29</td>\n",
              "      <td>1</td>\n",
              "      <td>15</td>\n",
              "      <td>14</td>\n",
              "      <td>02-12</td>\n",
              "    </tr>\n",
              "    <tr>\n",
              "      <th>9</th>\n",
              "      <td>03.01.2012</td>\n",
              "      <td>01:45</td>\n",
              "      <td>03.01.2012</td>\n",
              "      <td>01:50</td>\n",
              "      <td>100.51</td>\n",
              "      <td>100.30</td>\n",
              "      <td>100.25</td>\n",
              "      <td>100.51</td>\n",
              "      <td>64</td>\n",
              "      <td>36</td>\n",
              "      <td>50</td>\n",
              "      <td>14</td>\n",
              "      <td>02-12</td>\n",
              "    </tr>\n",
              "    <tr>\n",
              "      <th>10</th>\n",
              "      <td>03.01.2012</td>\n",
              "      <td>01:50</td>\n",
              "      <td>03.01.2012</td>\n",
              "      <td>01:55</td>\n",
              "      <td>100.51</td>\n",
              "      <td>100.37</td>\n",
              "      <td>100.27</td>\n",
              "      <td>100.51</td>\n",
              "      <td>173</td>\n",
              "      <td>57</td>\n",
              "      <td>115</td>\n",
              "      <td>58</td>\n",
              "      <td>02-12</td>\n",
              "    </tr>\n",
              "  </tbody>\n",
              "</table>\n",
              "</div>"
            ],
            "text/plain": [
              "     OPEN_DATE OPEN_TIME  CLOSE_DATE CLOSE_TIME  ...  DELTA  ASK  BID  EXPIRATION\n",
              "0   03.01.2012     01:00  03.01.2012      01:05  ...    523  720  197       02-12\n",
              "1   03.01.2012     01:05  03.01.2012      01:10  ...    -76  151  227       02-12\n",
              "2   03.01.2012     01:10  03.01.2012      01:15  ...    -58   64  122       02-12\n",
              "3   03.01.2012     01:15  03.01.2012      01:20  ...     79  117   38       02-12\n",
              "4   03.01.2012     01:20  03.01.2012      01:25  ...    -47   22   69       02-12\n",
              "5   03.01.2012     01:25  03.01.2012      01:30  ...     22   32   10       02-12\n",
              "6   03.01.2012     01:30  03.01.2012      01:35  ...     53   65   12       02-12\n",
              "7   03.01.2012     01:35  03.01.2012      01:40  ...      7   25   18       02-12\n",
              "8   03.01.2012     01:40  03.01.2012      01:45  ...      1   15   14       02-12\n",
              "9   03.01.2012     01:45  03.01.2012      01:50  ...     36   50   14       02-12\n",
              "10  03.01.2012     01:50  03.01.2012      01:55  ...     57  115   58       02-12\n",
              "\n",
              "[11 rows x 13 columns]"
            ]
          },
          "metadata": {
            "tags": []
          },
          "execution_count": 12
        }
      ]
    },
    {
      "cell_type": "code",
      "metadata": {
        "id": "X85f1petHcPl",
        "colab_type": "code",
        "outputId": "73ca7407-4efb-41b7-d777-2cc9c69c4960",
        "colab": {
          "base_uri": "https://localhost:8080/",
          "height": 286
        }
      },
      "source": [
        "import numpy as np\n",
        "import matplotlib.pyplot as plt\n",
        "\n",
        "cl.head()\n",
        "\n",
        "x = cl['OPEN_DATE']\n",
        "y = cl['CLOSE']\n",
        "\n",
        "plt.plot(x, y)\n",
        "                  "
      ],
      "execution_count": 5,
      "outputs": [
        {
          "output_type": "execute_result",
          "data": {
            "text/plain": [
              "[<matplotlib.lines.Line2D at 0x7f6325a911d0>]"
            ]
          },
          "metadata": {
            "tags": []
          },
          "execution_count": 5
        },
        {
          "output_type": "display_data",
          "data": {
            "image/png": "[encoded data removed]",
            "text/plain": [
              "<Figure size 432x288 with 1 Axes>"
            ]
          },
          "metadata": {
            "tags": []
          }
        }
      ]
    },
    {
      "cell_type": "code",
      "metadata": {
        "id": "DA1oqVwtLyl4",
        "colab_type": "code",
        "outputId": "a0d02c73-1a75-4f8d-b040-cfc8f0a76f1a",
        "colab": {
          "base_uri": "https://localhost:8080/",
          "height": 286
        }
      },
      "source": [
        "x = cl['OPEN_DATE']\n",
        "y = cl['DELTA']\n",
        "\n",
        "plt.plot(x, y)"
      ],
      "execution_count": 6,
      "outputs": [
        {
          "output_type": "execute_result",
          "data": {
            "text/plain": [
              "[<matplotlib.lines.Line2D at 0x7f6322f75dd8>]"
            ]
          },
          "metadata": {
            "tags": []
          },
          "execution_count": 6
        },
        {
          "output_type": "display_data",
          "data": {
            "image/png": "[encoded data removed]",
            "text/plain": [
              "<Figure size 432x288 with 1 Axes>"
            ]
          },
          "metadata": {
            "tags": []
          }
        }
      ]
    }
  ]
}